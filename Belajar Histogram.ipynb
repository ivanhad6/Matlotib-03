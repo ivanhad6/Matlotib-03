{
 "cells": [
  {
   "cell_type": "code",
   "execution_count": 1,
   "id": "163bff1d",
   "metadata": {},
   "outputs": [
    {
     "name": "stderr",
     "output_type": "stream",
     "text": [
      "UsageError: Line magic function `%matplotib` not found.\n"
     ]
    }
   ],
   "source": [
    "%matplotib inline"
   ]
  },
  {
   "cell_type": "code",
   "execution_count": 2,
   "id": "8499b011",
   "metadata": {},
   "outputs": [
    {
     "name": "stdout",
     "output_type": "stream",
     "text": [
      "3.4.3\n",
      "1.20.3\n"
     ]
    }
   ],
   "source": [
    "import matplotlib\n",
    "import matplotlib.pyplot as plt\n",
    "import numpy as np\n",
    "\n",
    "print(matplotlib.__version__)\n",
    "print(np.__version__)"
   ]
  },
  {
   "cell_type": "code",
   "execution_count": 3,
   "id": "cde04845",
   "metadata": {},
   "outputs": [
    {
     "data": {
      "text/plain": [
       "array([ 93.20826895,  92.32032326, 106.11904188, ...,  87.55763954,\n",
       "        95.11743686, 112.46810806])"
      ]
     },
     "execution_count": 3,
     "metadata": {},
     "output_type": "execute_result"
    }
   ],
   "source": [
    "#Menyiapkan Sample Data\n",
    "\n",
    "mu, sigma = 100, 15 #nilai mean dan standard deviation\n",
    "#mu untuk merepresentasikan mean, dan sigma untuk merepresentasikan nilai standard dev\n",
    "\n",
    "x= mu+sigma * np.random.randn(10000) #normal distribution\n",
    "x"
   ]
  },
  {
   "cell_type": "code",
   "execution_count": 4,
   "id": "d727ce60",
   "metadata": {},
   "outputs": [
    {
     "data": {
      "text/plain": [
       "(10000,)"
      ]
     },
     "execution_count": 4,
     "metadata": {},
     "output_type": "execute_result"
    }
   ],
   "source": [
    "x.shape #berfungsi untuk membuktikan bahwa ada 10000 data"
   ]
  },
  {
   "cell_type": "code",
   "execution_count": 5,
   "id": "e3490f53",
   "metadata": {},
   "outputs": [
    {
     "data": {
      "image/png": "[encoded data removed]",
      "text/plain": [
       "<Figure size 432x288 with 1 Axes>"
      ]
     },
     "metadata": {
      "needs_background": "light"
     },
     "output_type": "display_data"
    }
   ],
   "source": [
    "#Histogram dengan Pyplot Style\n",
    "\n",
    "plt.hist(x,bins=50,            \n",
    "         facecolor='g',\n",
    "         alpha=0.75)   #nilai alpha memiliki fungsi sebagai pengatur kecerahan dari gambar histogram\n",
    "\n",
    "plt.xlabel('Sumbu X')\n",
    "plt.ylabel('Sumbu Y')\n",
    "plt.title('Contoh Histogram')\n",
    "\n",
    "plt.text(45,500, r'$\\mu=100,\\ \\sigma=15$') #berfungsi untuk menyertakan teks dalam plotting.\n",
    "plt.grid()\n",
    "\n",
    "plt.show()"
   ]
  },
  {
   "cell_type": "code",
   "execution_count": 6,
   "id": "d55f9eb4",
   "metadata": {},
   "outputs": [
    {
     "data": {
      "image/png": "[encoded data removed]",
      "text/plain": [
       "<Figure size 432x288 with 1 Axes>"
      ]
     },
     "metadata": {
      "needs_background": "light"
     },
     "output_type": "display_data"
    }
   ],
   "source": [
    "#Histogram dengan OO Style\n",
    "\n",
    "fig, ax = plt.subplots()\n",
    "ax.hist(x,bins=50, facecolor='r',alpha=0.75)\n",
    "\n",
    "ax.set_xlabel('Sumbu X')\n",
    "ax.set_ylabel('Sumbu Y')\n",
    "ax.set_title('Contoh Histogram')\n",
    "\n",
    "ax.text(45,500, r'$\\mu=100,\\ \\sigma=15$') #Berfungsi untuk menyertakan teks dalam plotting.\n",
    "ax.grid()\n",
    "\n",
    "plt.show()"
   ]
  },
  {
   "cell_type": "code",
   "execution_count": null,
   "id": "7038c008",
   "metadata": {},
   "outputs": [],
   "source": []
  }
 ],
 "metadata": {
  "kernelspec": {
   "display_name": "Python 3 (ipykernel)",
   "language": "python",
   "name": "python3"
  },
  "language_info": {
   "codemirror_mode": {
    "name": "ipython",
    "version": 3
   },
   "file_extension": ".py",
   "mimetype": "text/x-python",
   "name": "python",
   "nbconvert_exporter": "python",
   "pygments_lexer": "ipython3",
   "version": "3.9.7"
  }
 },
 "nbformat": 4,
 "nbformat_minor": 5
}
